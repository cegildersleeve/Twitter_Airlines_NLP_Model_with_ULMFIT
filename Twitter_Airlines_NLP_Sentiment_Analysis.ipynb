{
  "nbformat": 4,
  "nbformat_minor": 0,
  "metadata": {
    "colab": {
      "name": "Twitter Airlines NLP Sentiment Analysis-Copy1.ipynb",
      "version": "0.3.2",
      "provenance": [],
      "collapsed_sections": [],
      "toc_visible": true,
      "include_colab_link": true
    },
    "language_info": {
      "codemirror_mode": {
        "name": "ipython",
        "version": 3
      },
      "file_extension": ".py",
      "mimetype": "text/x-python",
      "name": "python",
      "nbconvert_exporter": "python",
      "pygments_lexer": "ipython3",
      "version": "3.6.5"
    },
    "kernelspec": {
      "name": "python3",
      "display_name": "Python 3"
    },
    "accelerator": "GPU"
  },
  "cells": [
    {
      "cell_type": "markdown",
      "metadata": {
        "id": "view-in-github",
        "colab_type": "text"
      },
      "source": [
        "<a href=\"https://colab.research.google.com/github/cegildersleeve/Twitter_Airlines_ULMFIT/blob/master/Twitter_Airlines_NLP_Sentiment_Analysis.ipynb\" target=\"_parent\"><img src=\"https://colab.research.google.com/assets/colab-badge.svg\" alt=\"Open In Colab\"/></a>"
      ]
    },
    {
      "cell_type": "markdown",
      "metadata": {
        "id": "aWq-4gXT8V1W",
        "colab_type": "text"
      },
      "source": [
        "#Sentiment Analysis of Airline Tweets using ULMFIT"
      ]
    },
    {
      "cell_type": "markdown",
      "metadata": {
        "id": "XqR68eMF9tNn",
        "colab_type": "text"
      },
      "source": [
        "##Setting Up"
      ]
    },
    {
      "cell_type": "code",
      "metadata": {
        "scrolled": true,
        "id": "zGy4novH3lcW",
        "colab_type": "code",
        "outputId": "ef52282b-a989-440e-e046-4adfa8de15ab",
        "colab": {
          "base_uri": "https://localhost:8080/",
          "height": 52
        }
      },
      "source": [
        "#necessary imports\n",
        "import pandas as pd\n",
        "import numpy as np\n",
        "from sklearn.feature_extraction.text import CountVectorizer\n",
        "import nltk\n",
        "nltk.download('wordnet')\n",
        "from nltk.stem import WordNetLemmatizer \n",
        "from nltk.corpus import wordnet\n",
        "import spacy\n",
        "import matplotlib.pyplot as plt\n",
        "from sklearn.linear_model import LogisticRegression\n",
        "from sklearn.model_selection import train_test_split\n",
        "from sklearn.metrics import confusion_matrix\n",
        "import seaborn as sns\n",
        "import datetime as dt\n",
        "from datetime import datetime\n",
        "from sklearn.metrics import fbeta_score,  accuracy_score\n",
        "import fastai\n",
        "from fastai import *\n",
        "from fastai.text import * \n"
      ],
      "execution_count": 1,
      "outputs": [
        {
          "output_type": "stream",
          "text": [
            "[nltk_data] Downloading package wordnet to /root/nltk_data...\n",
            "[nltk_data]   Package wordnet is already up-to-date!\n"
          ],
          "name": "stdout"
        }
      ]
    },
    {
      "cell_type": "code",
      "metadata": {
        "id": "cOqxKCc8qpEs",
        "colab_type": "code",
        "outputId": "fc35625e-7353-4643-9ab9-235aeff87a6b",
        "colab": {
          "base_uri": "https://localhost:8080/",
          "height": 34
        }
      },
      "source": [
        "#download datafiles from my git repository\n",
        "!git clone  https://github.com/cegildersleeve/Twitter_Airlines_ULMFIT"
      ],
      "execution_count": 2,
      "outputs": [
        {
          "output_type": "stream",
          "text": [
            "fatal: destination path 'Twitter_Airlines_ULMFIT' already exists and is not an empty directory.\n"
          ],
          "name": "stdout"
        }
      ]
    },
    {
      "cell_type": "code",
      "metadata": {
        "id": "fyYKCRE8qntz",
        "colab_type": "code",
        "colab": {}
      },
      "source": [
        "from Twitter_Airlines_ULMFIT import appos\n"
      ],
      "execution_count": 0,
      "outputs": []
    },
    {
      "cell_type": "code",
      "metadata": {
        "colab_type": "code",
        "id": "KGOHjUYg7yp-",
        "colab": {}
      },
      "source": [
        "#reading the raw data\n",
        "tweets = pd.read_csv(r\"Twitter_Airlines_ULMFIT/Tweets.csv\")"
      ],
      "execution_count": 0,
      "outputs": []
    },
    {
      "cell_type": "markdown",
      "metadata": {
        "id": "oKM-sRqN99c6",
        "colab_type": "text"
      },
      "source": [
        "##Initial Exploration"
      ]
    },
    {
      "cell_type": "code",
      "metadata": {
        "scrolled": true,
        "id": "DdIHEa9I3lch",
        "colab_type": "code",
        "outputId": "ff546dde-6dba-4553-c5f6-20cc04c4aabb",
        "colab": {
          "base_uri": "https://localhost:8080/",
          "height": 372
        }
      },
      "source": [
        "#explore oritinal features of the tweets file\n",
        "tweets.info()"
      ],
      "execution_count": 5,
      "outputs": [
        {
          "output_type": "stream",
          "text": [
            "<class 'pandas.core.frame.DataFrame'>\n",
            "RangeIndex: 14640 entries, 0 to 14639\n",
            "Data columns (total 15 columns):\n",
            "tweet_id                        14640 non-null int64\n",
            "airline_sentiment               14640 non-null object\n",
            "airline_sentiment_confidence    14640 non-null float64\n",
            "negativereason                  9178 non-null object\n",
            "negativereason_confidence       10522 non-null float64\n",
            "airline                         14640 non-null object\n",
            "airline_sentiment_gold          40 non-null object\n",
            "name                            14640 non-null object\n",
            "negativereason_gold             32 non-null object\n",
            "retweet_count                   14640 non-null int64\n",
            "text                            14640 non-null object\n",
            "tweet_coord                     1019 non-null object\n",
            "tweet_created                   14640 non-null object\n",
            "tweet_location                  9907 non-null object\n",
            "user_timezone                   9820 non-null object\n",
            "dtypes: float64(2), int64(2), object(11)\n",
            "memory usage: 1.7+ MB\n"
          ],
          "name": "stdout"
        }
      ]
    },
    {
      "cell_type": "code",
      "metadata": {
        "scrolled": true,
        "id": "iByi98xP3lcj",
        "colab_type": "code",
        "outputId": "a5bb61a1-800e-4d1a-9469-1206bf670445",
        "colab": {
          "base_uri": "https://localhost:8080/",
          "height": 434
        }
      },
      "source": [
        "#explore what the data looks like at a glance\n",
        "tweets.head()"
      ],
      "execution_count": 6,
      "outputs": [
        {
          "output_type": "execute_result",
          "data": {
            "text/html": [
              "<div>\n",
              "<style scoped>\n",
              "    .dataframe tbody tr th:only-of-type {\n",
              "        vertical-align: middle;\n",
              "    }\n",
              "\n",
              "    .dataframe tbody tr th {\n",
              "        vertical-align: top;\n",
              "    }\n",
              "\n",
              "    .dataframe thead th {\n",
              "        text-align: right;\n",
              "    }\n",
              "</style>\n",
              "<table border=\"1\" class=\"dataframe\">\n",
              "  <thead>\n",
              "    <tr style=\"text-align: right;\">\n",
              "      <th></th>\n",
              "      <th>tweet_id</th>\n",
              "      <th>airline_sentiment</th>\n",
              "      <th>airline_sentiment_confidence</th>\n",
              "      <th>negativereason</th>\n",
              "      <th>negativereason_confidence</th>\n",
              "      <th>airline</th>\n",
              "      <th>airline_sentiment_gold</th>\n",
              "      <th>name</th>\n",
              "      <th>negativereason_gold</th>\n",
              "      <th>retweet_count</th>\n",
              "      <th>text</th>\n",
              "      <th>tweet_coord</th>\n",
              "      <th>tweet_created</th>\n",
              "      <th>tweet_location</th>\n",
              "      <th>user_timezone</th>\n",
              "    </tr>\n",
              "  </thead>\n",
              "  <tbody>\n",
              "    <tr>\n",
              "      <th>0</th>\n",
              "      <td>570306133677760513</td>\n",
              "      <td>neutral</td>\n",
              "      <td>1.0000</td>\n",
              "      <td>NaN</td>\n",
              "      <td>NaN</td>\n",
              "      <td>Virgin America</td>\n",
              "      <td>NaN</td>\n",
              "      <td>cairdin</td>\n",
              "      <td>NaN</td>\n",
              "      <td>0</td>\n",
              "      <td>@VirginAmerica What @dhepburn said.</td>\n",
              "      <td>NaN</td>\n",
              "      <td>2015-02-24 11:35:52 -0800</td>\n",
              "      <td>NaN</td>\n",
              "      <td>Eastern Time (US &amp; Canada)</td>\n",
              "    </tr>\n",
              "    <tr>\n",
              "      <th>1</th>\n",
              "      <td>570301130888122368</td>\n",
              "      <td>positive</td>\n",
              "      <td>0.3486</td>\n",
              "      <td>NaN</td>\n",
              "      <td>0.0000</td>\n",
              "      <td>Virgin America</td>\n",
              "      <td>NaN</td>\n",
              "      <td>jnardino</td>\n",
              "      <td>NaN</td>\n",
              "      <td>0</td>\n",
              "      <td>@VirginAmerica plus you've added commercials t...</td>\n",
              "      <td>NaN</td>\n",
              "      <td>2015-02-24 11:15:59 -0800</td>\n",
              "      <td>NaN</td>\n",
              "      <td>Pacific Time (US &amp; Canada)</td>\n",
              "    </tr>\n",
              "    <tr>\n",
              "      <th>2</th>\n",
              "      <td>570301083672813571</td>\n",
              "      <td>neutral</td>\n",
              "      <td>0.6837</td>\n",
              "      <td>NaN</td>\n",
              "      <td>NaN</td>\n",
              "      <td>Virgin America</td>\n",
              "      <td>NaN</td>\n",
              "      <td>yvonnalynn</td>\n",
              "      <td>NaN</td>\n",
              "      <td>0</td>\n",
              "      <td>@VirginAmerica I didn't today... Must mean I n...</td>\n",
              "      <td>NaN</td>\n",
              "      <td>2015-02-24 11:15:48 -0800</td>\n",
              "      <td>Lets Play</td>\n",
              "      <td>Central Time (US &amp; Canada)</td>\n",
              "    </tr>\n",
              "    <tr>\n",
              "      <th>3</th>\n",
              "      <td>570301031407624196</td>\n",
              "      <td>negative</td>\n",
              "      <td>1.0000</td>\n",
              "      <td>Bad Flight</td>\n",
              "      <td>0.7033</td>\n",
              "      <td>Virgin America</td>\n",
              "      <td>NaN</td>\n",
              "      <td>jnardino</td>\n",
              "      <td>NaN</td>\n",
              "      <td>0</td>\n",
              "      <td>@VirginAmerica it's really aggressive to blast...</td>\n",
              "      <td>NaN</td>\n",
              "      <td>2015-02-24 11:15:36 -0800</td>\n",
              "      <td>NaN</td>\n",
              "      <td>Pacific Time (US &amp; Canada)</td>\n",
              "    </tr>\n",
              "    <tr>\n",
              "      <th>4</th>\n",
              "      <td>570300817074462722</td>\n",
              "      <td>negative</td>\n",
              "      <td>1.0000</td>\n",
              "      <td>Can't Tell</td>\n",
              "      <td>1.0000</td>\n",
              "      <td>Virgin America</td>\n",
              "      <td>NaN</td>\n",
              "      <td>jnardino</td>\n",
              "      <td>NaN</td>\n",
              "      <td>0</td>\n",
              "      <td>@VirginAmerica and it's a really big bad thing...</td>\n",
              "      <td>NaN</td>\n",
              "      <td>2015-02-24 11:14:45 -0800</td>\n",
              "      <td>NaN</td>\n",
              "      <td>Pacific Time (US &amp; Canada)</td>\n",
              "    </tr>\n",
              "  </tbody>\n",
              "</table>\n",
              "</div>"
            ],
            "text/plain": [
              "             tweet_id  ...               user_timezone\n",
              "0  570306133677760513  ...  Eastern Time (US & Canada)\n",
              "1  570301130888122368  ...  Pacific Time (US & Canada)\n",
              "2  570301083672813571  ...  Central Time (US & Canada)\n",
              "3  570301031407624196  ...  Pacific Time (US & Canada)\n",
              "4  570300817074462722  ...  Pacific Time (US & Canada)\n",
              "\n",
              "[5 rows x 15 columns]"
            ]
          },
          "metadata": {
            "tags": []
          },
          "execution_count": 6
        }
      ]
    },
    {
      "cell_type": "code",
      "metadata": {
        "id": "0vcoAR-O3lcm",
        "colab_type": "code",
        "colab": {}
      },
      "source": [
        "#convert tweet_created to datetime and make new date values\n",
        "tweets.tweet_created = pd.to_datetime(tweets.tweet_created)\n",
        "tweets['weekday'] = tweets.tweet_created.dt.weekday_name\n",
        "tweets['hour'] = tweets.tweet_created.dt.hour\n",
        "tweets['month'] = tweets.tweet_created.dt.month_name()"
      ],
      "execution_count": 0,
      "outputs": []
    },
    {
      "cell_type": "code",
      "metadata": {
        "id": "VaR3Ch29MW6b",
        "colab_type": "code",
        "colab": {}
      },
      "source": [
        "dtypes = tweets.dtypes"
      ],
      "execution_count": 0,
      "outputs": []
    },
    {
      "cell_type": "code",
      "metadata": {
        "scrolled": true,
        "id": "HVZF41Uu3lcv",
        "colab_type": "code",
        "colab": {}
      },
      "source": [
        "#create a list of numerical data types to explore\n",
        "numerical = dtypes[(tweets.dtypes == 'int64') | (tweets.dtypes == 'float64') ].index.tolist()\n",
        "numerical.remove('hour')\n",
        "numerical.remove('tweet_id')"
      ],
      "execution_count": 0,
      "outputs": []
    },
    {
      "cell_type": "code",
      "metadata": {
        "scrolled": true,
        "id": "PPTpiVEi3lcx",
        "colab_type": "code",
        "outputId": "ce037478-aafd-4ac6-ca58-4b91e0d9bd17",
        "colab": {
          "base_uri": "https://localhost:8080/",
          "height": 334
        }
      },
      "source": [
        "#create histograms for numerical values\n",
        "tweets[numerical].hist(bins=15, figsize =(10,4), layout=(1,3))"
      ],
      "execution_count": 10,
      "outputs": [
        {
          "output_type": "execute_result",
          "data": {
            "text/plain": [
              "array([[<matplotlib.axes._subplots.AxesSubplot object at 0x7ff94d715f28>,\n",
              "        <matplotlib.axes._subplots.AxesSubplot object at 0x7ff94d490588>,\n",
              "        <matplotlib.axes._subplots.AxesSubplot object at 0x7ff94d43a978>]], dtype=object)"
            ]
          },
          "metadata": {
            "tags": []
          },
          "execution_count": 10
        },
        {
          "output_type": "display_data",
          "data": {
            "image/png": "[encoded data removed]",
            "text/plain": [
              "<Figure size 720x288 with 3 Axes>"
            ]
          },
          "metadata": {
            "tags": []
          }
        }
      ]
    },
    {
      "cell_type": "code",
      "metadata": {
        "id": "uvJnr8eK3lc1",
        "colab_type": "code",
        "outputId": "3bda75b7-b8b2-41a7-af81-8ae08f7ba29b",
        "colab": {
          "base_uri": "https://localhost:8080/",
          "height": 386
        }
      },
      "source": [
        "#explore possible differences in retweets\n",
        "sns.catplot(x=\"airline_sentiment\", y=\"retweet_count\", data=tweets[tweets.retweet_count>0])"
      ],
      "execution_count": 11,
      "outputs": [
        {
          "output_type": "execute_result",
          "data": {
            "text/plain": [
              "<seaborn.axisgrid.FacetGrid at 0x7ff94d715f98>"
            ]
          },
          "metadata": {
            "tags": []
          },
          "execution_count": 11
        },
        {
          "output_type": "display_data",
          "data": {
            "image/png": "[encoded data removed]",
            "text/plain": [
              "<Figure size 360x360 with 1 Axes>"
            ]
          },
          "metadata": {
            "tags": []
          }
        }
      ]
    },
    {
      "cell_type": "code",
      "metadata": {
        "id": "4Np92-0d3lc3",
        "colab_type": "code",
        "outputId": "6101af87-2af1-436a-e07c-64d8e5ddfc3a",
        "colab": {
          "base_uri": "https://localhost:8080/",
          "height": 34
        }
      },
      "source": [
        "#percent of tweets that are retweeted\n",
        "tweets[tweets.retweet_count>0].shape[0]/tweets.shape[0]"
      ],
      "execution_count": 12,
      "outputs": [
        {
          "output_type": "execute_result",
          "data": {
            "text/plain": [
              "0.05239071038251366"
            ]
          },
          "metadata": {
            "tags": []
          },
          "execution_count": 12
        }
      ]
    },
    {
      "cell_type": "markdown",
      "metadata": {
        "id": "id0goctlsOgJ",
        "colab_type": "text"
      },
      "source": [
        "Looking at the numerical data we can see that:\n",
        "\n",
        "About 5% of tweets are retweeted. The majority of retweet values are 0 or 1\n",
        "Confidence in a negative reason is high but the central reason in unclear\n",
        "Sentiment in retweets is skews slightly negative, but there are also more negative tweets as shown later on\n"
      ]
    },
    {
      "cell_type": "code",
      "metadata": {
        "id": "NXEk0set3lc-",
        "colab_type": "code",
        "colab": {}
      },
      "source": [
        "#create list of categorical values to explore\n",
        "categorical = ['airline','weekday','hour','month','airline_sentiment','user_timezone','negativereason']"
      ],
      "execution_count": 0,
      "outputs": []
    },
    {
      "cell_type": "code",
      "metadata": {
        "scrolled": true,
        "id": "s0U7VaTW3ldC",
        "colab_type": "code",
        "outputId": "dc1f44db-addb-475f-dcfb-29d5844b2486",
        "colab": {
          "base_uri": "https://localhost:8080/",
          "height": 1000
        }
      },
      "source": [
        "#create count plots for important categorical values\n",
        "fig, ax = plt.subplots(2, 3, figsize=(20, 15))\n",
        "for variable, subplot in zip(categorical, ax.flatten()):\n",
        "    sns.countplot(tweets[variable], ax=subplot)\n",
        "    for label in subplot.get_xticklabels():\n",
        "        label.set_rotation(90)"
      ],
      "execution_count": 14,
      "outputs": [
        {
          "output_type": "display_data",
          "data": {
            "image/png": "[encoded data removed]",
            "text/plain": [
              "<Figure size 1440x1080 with 6 Axes>"
            ]
          },
          "metadata": {
            "tags": []
          }
        }
      ]
    },
    {
      "cell_type": "code",
      "metadata": {
        "id": "Hjht6IMx3ldG",
        "colab_type": "code",
        "outputId": "72490696-8914-4d97-ae6d-2c8911e6f7db",
        "colab": {
          "base_uri": "https://localhost:8080/",
          "height": 346
        }
      },
      "source": [
        "#explore percentages of airline sentiments amongsts specific cateogries\n",
        "fig, ax = plt.subplots(1, 3, figsize=(20, 4))\n",
        "for variable, subplot in zip(categorical, ax.flatten()):\n",
        "    prop_df = tweets['airline_sentiment'].groupby(tweets[variable]).value_counts(normalize=True).rename('prop').reset_index()\n",
        "    sns.barplot(x=variable,y='prop',hue=\"airline_sentiment\", data=prop_df, ax=subplot)\n",
        "    for label in subplot.get_xticklabels():\n",
        "        label.set_rotation(90)"
      ],
      "execution_count": 15,
      "outputs": [
        {
          "output_type": "display_data",
          "data": {
            "image/png": "[encoded data removed]",
            "text/plain": [
              "<Figure size 1440x288 with 3 Axes>"
            ]
          },
          "metadata": {
            "tags": []
          }
        }
      ]
    },
    {
      "cell_type": "markdown",
      "metadata": {
        "id": "NVMU2phz3A1m",
        "colab_type": "text"
      },
      "source": [
        "Not surprisingly the data has some significant differences across categories. Most notably:\n",
        "\n",
        "There are significantly more negative tweets than positive or neutral. This may skew predictions to predict more negative.\n",
        "The number of tweets from the different airlines are disproportionate, and the certain airlines like American, US Airways, and United get more negative tweets.\n",
        "There is only data from February."
      ]
    },
    {
      "cell_type": "code",
      "metadata": {
        "id": "UER0-Q-r3ldP",
        "colab_type": "code",
        "outputId": "c20bbd05-9790-418d-d025-e3177068bfd2",
        "colab": {
          "base_uri": "https://localhost:8080/",
          "height": 105
        }
      },
      "source": [
        "#see what positive tweets look like\n",
        "tweets[tweets.airline_sentiment==\"positive\"].text.tolist()[0:5]"
      ],
      "execution_count": 16,
      "outputs": [
        {
          "output_type": "execute_result",
          "data": {
            "text/plain": [
              "[\"@VirginAmerica plus you've added commercials to the experience... tacky.\",\n",
              " '@VirginAmerica yes, nearly every time I fly VX this “ear worm” won’t go away :)',\n",
              " \"@virginamerica Well, I didn't…but NOW I DO! :-D\",\n",
              " \"@VirginAmerica it was amazing, and arrived an hour early. You're too good to me.\",\n",
              " '@VirginAmerica I &lt;3 pretty graphics. so much better than minimal iconography. :D']"
            ]
          },
          "metadata": {
            "tags": []
          },
          "execution_count": 16
        }
      ]
    },
    {
      "cell_type": "code",
      "metadata": {
        "id": "7XfN9IDs3ldQ",
        "colab_type": "code",
        "outputId": "88cfb6ec-9de0-44dd-ed71-946e6bb7e04b",
        "colab": {
          "base_uri": "https://localhost:8080/",
          "height": 105
        }
      },
      "source": [
        "#see what neutral tweets look like\n",
        "tweets[tweets.airline_sentiment==\"neutral\"].text.tolist()[0:5]"
      ],
      "execution_count": 17,
      "outputs": [
        {
          "output_type": "execute_result",
          "data": {
            "text/plain": [
              "['@VirginAmerica What @dhepburn said.',\n",
              " \"@VirginAmerica I didn't today... Must mean I need to take another trip!\",\n",
              " '@VirginAmerica Really missed a prime opportunity for Men Without Hats parody, there. https://t.co/mWpG7grEZP',\n",
              " '@VirginAmerica did you know that suicide is the second leading cause of death among teens 10-24',\n",
              " '@VirginAmerica will you be making BOS&gt;LAS non stop permanently anytime soon?']"
            ]
          },
          "metadata": {
            "tags": []
          },
          "execution_count": 17
        }
      ]
    },
    {
      "cell_type": "markdown",
      "metadata": {
        "id": "j4jrDet141iz",
        "colab_type": "text"
      },
      "source": [
        "Just good to know what the positive and neutral tweets are like, too. Negative tweets were easy to see when calling tweets.head()"
      ]
    },
    {
      "cell_type": "markdown",
      "metadata": {
        "id": "flrQLvg94_L-",
        "colab_type": "text"
      },
      "source": [
        "#Data Preprocessing"
      ]
    },
    {
      "cell_type": "markdown",
      "metadata": {
        "id": "oC9j0AFu6sBF",
        "colab_type": "text"
      },
      "source": [
        "I am using the following tweet pre-processing techniques. \n",
        "\n",
        "Remove unicode strings\n",
        "Replace urls with empty string\n",
        "Replace user mentions with empty string\n",
        "Parse out concatenated hashtags with most common words\n",
        "Replace hashtags with empty string\n",
        "Replace contractions\n",
        "Remove numbers\n",
        "Remove punctuation marks and special characters\n",
        "Lowercase text\n",
        "Replace most common misspellings\n",
        "Replace negations\n",
        "\n",
        "Given I may want to use these processes again in the future, I am going to create functions for each"
      ]
    },
    {
      "cell_type": "code",
      "metadata": {
        "id": "aJglbYP53ldT",
        "colab_type": "code",
        "colab": {}
      },
      "source": [
        "def removeUnicode(df_col):\n",
        "    \"\"\" Removes unicode strings like \"\\u002c\" and \"x96\" \"\"\"\n",
        "    df_col = df_col.str.replace(pat=r'(\\\\u[0-9A-Fa-f]+)',repl=r'')       \n",
        "    return df_col\n",
        "\n",
        "def removeURLs(df_col):\n",
        "    \"\"\" Replaces url address with \"url\" \"\"\"\n",
        "    df_col = df_col.str.replace('((www\\.[^\\s]+)|(https?://[^\\s]+))','')\n",
        "    return df_col"
      ],
      "execution_count": 0,
      "outputs": []
    },
    {
      "cell_type": "code",
      "metadata": {
        "id": "T5LECba13ldV",
        "colab_type": "code",
        "colab": {}
      },
      "source": [
        "def listHashtags(df_col):\n",
        "    '''Lists all hashtags from a column of text'''\n",
        "    hashtags = df_col.str.extractall('#([A-Za-z_]+)')\n",
        "    hashtags = hashtags.reset_index()\n",
        "    hashtags = hashtags.drop(columns=['level_0','match'])\n",
        "    hashtags.columns = [\"hashtag\"]\n",
        "    return hashtags.hashtag\n",
        "    "
      ],
      "execution_count": 0,
      "outputs": []
    },
    {
      "cell_type": "code",
      "metadata": {
        "id": "w5FCFqHo3ldW",
        "colab_type": "code",
        "colab": {}
      },
      "source": [
        "def parseHashtags(df_col, word_list):\n",
        "    '''Parses out hashtags by capitol letters and by using a word list'''\n",
        "    hashtags = df_col.str.extractall('#([A-Za-z_]+)')\n",
        "    hashtags = hashtags.reset_index()\n",
        "    hashtags = hashtags.drop(columns=['level_0','match'])\n",
        "    hashtags.columns = [\"hashtag\"]\n",
        "    hashtags['original'] = '#'+hashtags.hashtag\n",
        "    hashtags.hashtag = hashtags.hashtag.str.replace('((?<=[a-z])[A-Z]|[A-Z](?=[a-z]))', repl=r' \\1')\n",
        "    hashtags.hashtag = hashtags.hashtag.str.lower()\n",
        "    important_hashtags = word_list\n",
        "    for x in important_hashtags:\n",
        "        hashtags.hashtag = hashtags.hashtag.str.replace(x, regex=False, repl=(' ' + x + ' '))\n",
        "    hashtags.loc[(hashtags.hashtag.str.contains(\"not\", regex=False) == False) | (hashtags.hashtag.str.contains(\"inno\", regex=False) == False) , 'hashtag'] = hashtags.loc[hashtags.hashtag.str.contains(\"not\", regex=False) ==False, 'hashtag'].str.replace('no', regex=False, repl=(' no '))\n",
        "    hashtags.index = hashtags.original\n",
        "    hashtag_dict = hashtags.drop(columns='original')\n",
        "    hashtag_dict = hashtag_dict.to_dict()['hashtag']\n",
        "    for x in hashtag_dict:\n",
        "        df_col = tweets.text.str.replace(x, regex=False, repl=str(hashtag_dict[x]).strip())\n",
        "    return df_col\n"
      ],
      "execution_count": 0,
      "outputs": []
    },
    {
      "cell_type": "code",
      "metadata": {
        "id": "P4gPEeUn3ldZ",
        "colab_type": "code",
        "colab": {}
      },
      "source": [
        "def removeHandles(df_col):\n",
        "    '''Removes Twitter handles from text column'''\n",
        "    df_col = df_col.str.replace('@([A-Za-z_]+)','')\n",
        "    return df_col\n",
        "    \n",
        "    "
      ],
      "execution_count": 0,
      "outputs": []
    },
    {
      "cell_type": "code",
      "metadata": {
        "id": "3SaxJKE73lda",
        "colab_type": "code",
        "colab": {}
      },
      "source": [
        "def splitConcatenatedWords(df_col):\n",
        "    '''Splits strings where a capitol letter is preceded by a lowercase letter'''\n",
        "    df_col = df_col.str.replace('((?<=[a-z])[A-Z]|[A-Z](?=[a-z]))', repl=r' \\1')\n",
        "    return df_col\n",
        "\n",
        "    "
      ],
      "execution_count": 0,
      "outputs": []
    },
    {
      "cell_type": "code",
      "metadata": {
        "id": "LISxdFp03ldd",
        "colab_type": "code",
        "colab": {}
      },
      "source": [
        "def lowercase(df_col):\n",
        "    '''Converts text column to lowercase'''\n",
        "    df_col = df_col.str.lower()\n",
        "    return df_col"
      ],
      "execution_count": 0,
      "outputs": []
    },
    {
      "cell_type": "code",
      "metadata": {
        "id": "7gSWkY3E3ldf",
        "colab_type": "code",
        "colab": {}
      },
      "source": [
        "def replaceContractions(df_col):\n",
        "    '''Converts common contractions like 'isn't' to 'is not'''\n",
        "    for word in appos.appos:\n",
        "        df_col = df_col.str.replace(word, regex=False, repl=appos.appos[word])\n",
        "    return df_col"
      ],
      "execution_count": 0,
      "outputs": []
    },
    {
      "cell_type": "code",
      "metadata": {
        "id": "IRtxWAxt3ldg",
        "colab_type": "code",
        "colab": {}
      },
      "source": [
        "def findMisspellings(df_col, vocab_list, min_freq=5):\n",
        "    '''returns dataframe with frequencies of most common misspellings descending'''\n",
        "    count_vector = CountVectorizer(min_df = min_freq)\n",
        "    count_vector = count_vector.fit(df_col)\n",
        "    bag_of_words = count_vector.transform(df_col)\n",
        "    all_words = count_vector.get_feature_names()\n",
        "    sum_words = pd.DataFrame(bag_of_words.toarray())\n",
        "    sum_words.columns = all_words\n",
        "    df_word_freq = pd.DataFrame(sum_words.sum())\n",
        "    misspelled = [x for x in all_words if x not in vocab_list]\n",
        "    df_word_freq.columns = ['word']\n",
        "    df_misspelled = df_word_freq.loc[misspelled,:].sort_values(by='word', ascending = False)\n",
        "    return df_misspelled"
      ],
      "execution_count": 0,
      "outputs": []
    },
    {
      "cell_type": "code",
      "metadata": {
        "id": "pswUuQxx3ldh",
        "colab_type": "code",
        "colab": {}
      },
      "source": [
        "def replaceCommonMisspellings(path_of_csv_lookup_table, df_col):\n",
        "    '''creates dictionary replacer from csv with columns Word, Count, and Replacement'''\n",
        "    most_misspelled = pd.read_csv(path_of_csv_lookup_table)\n",
        "    most_misspelled.index = most_misspelled.Word\n",
        "    most_misspelled = most_misspelled.drop(columns=['Word','Count'])\n",
        "    most_misspelled_dict = most_misspelled.to_dict()['Replacement']\n",
        "    for word in most_misspelled_dict:\n",
        "        df_col = df_col.str.replace(r'\\b'+word+r'\\b', repl=(str(most_misspelled_dict[word])))\n",
        "    return df_col\n",
        "    \n"
      ],
      "execution_count": 0,
      "outputs": []
    },
    {
      "cell_type": "code",
      "metadata": {
        "id": "Gy3aUBoI3ldi",
        "colab_type": "code",
        "colab": {}
      },
      "source": [
        "def removeNonAlphabetic(df_col):\n",
        "    '''Removes characters not in the alphabet'''\n",
        "    df_col = df_col.str.replace('([^\\s\\w]|_)+', repl='')\n",
        "    df_col = df_col.str.replace('([0-9])', repl=\"\")\n",
        "    return df_col"
      ],
      "execution_count": 0,
      "outputs": []
    },
    {
      "cell_type": "code",
      "metadata": {
        "id": "wetaDhSM3ldl",
        "colab_type": "code",
        "colab": {}
      },
      "source": [
        "def lemmatizeText(df_col):\n",
        "    '''Returns the same text column with all words lemmatized'''\n",
        "    lemmatized_sentences = []\n",
        "    for text in tweets.text.tolist():\n",
        "        doc = nlp(text)\n",
        "        sentence = \" \".join([token.lemma_ for token in doc])\n",
        "        lemmatized_sentences.append(sentence)\n",
        "    df_col = lemmatized_sentences\n",
        "    return df_col"
      ],
      "execution_count": 0,
      "outputs": []
    },
    {
      "cell_type": "code",
      "metadata": {
        "id": "OLpJrbCq3ldn",
        "colab_type": "code",
        "colab": {}
      },
      "source": [
        "def removeMisspelled(df_col, vocab_list):\n",
        "    '''Removes all words not found in a vocab list from a column'''\n",
        "    count_vector = CountVectorizer()\n",
        "    count_vector = count_vector.fit(tweets.text)\n",
        "    all_words = count_vector.get_feature_names()\n",
        "    misspelled = [x for x in all_words if x not in vocab_list]\n",
        "    for word in misspelled:\n",
        "        regex = '\\b' + word + '\\b'\n",
        "    df_col = df_col.str.replace(regex, '')\n",
        "    return df_col"
      ],
      "execution_count": 0,
      "outputs": []
    },
    {
      "cell_type": "code",
      "metadata": {
        "id": "z1jngX-93ldo",
        "colab_type": "code",
        "colab": {}
      },
      "source": [
        "def findAntonyms(word):\n",
        "    '''finds antonymn for word. If antonym is not know, returns 'not word' instead'''\n",
        "    antonyms = []\n",
        "    for syn in wordnet.synsets(word):\n",
        "        for lm in syn.lemmas():\n",
        "            if lm.antonyms():\n",
        "                antonyms.append(lm.antonyms()[0].name())\n",
        "    if len(antonyms) > 0:\n",
        "        return antonyms\n",
        "    else:\n",
        "        return ['not '+word]"
      ],
      "execution_count": 0,
      "outputs": []
    },
    {
      "cell_type": "code",
      "metadata": {
        "id": "emKM_pfW3ldp",
        "colab_type": "code",
        "colab": {}
      },
      "source": [
        "def findNegations(sentence):\n",
        "    \"\"\" Finds \"not\" and antonym for the next word and if found, replaces not and the next word with the antonym \"\"\"\n",
        "    sentence = [str(x) for x in (nlp(sentence))]\n",
        "    i, l = 0, len(sentence)\n",
        "    negations = []\n",
        "    negated_words = []\n",
        "    while i < l:\n",
        "        word = sentence[i]\n",
        "        if str(word) == 'not' and i+1 < l:\n",
        "            negations.append(word+\" \"+sentence[i+1])\n",
        "            negated_words.append(sentence[i+1])\n",
        "        i = i + 1\n",
        "\n",
        "    return negations, negated_words"
      ],
      "execution_count": 0,
      "outputs": []
    },
    {
      "cell_type": "code",
      "metadata": {
        "id": "WSk_QC_33ldq",
        "colab_type": "code",
        "colab": {}
      },
      "source": [
        "def findNegationSubstitutions(sentence):\n",
        "    '''Finds negations and returns a dictionary with their replacements'''\n",
        "    negations, negated_words = findNegations(sentence)\n",
        "    substitute_dict = {}\n",
        "    i, l = 0, len(negated_words)\n",
        "    while i < l:\n",
        "        substitute_dict[negations[i]] = findAntonyms(negated_words[i])[0]\n",
        "        i = i + 1\n",
        "    return substitute_dict\n",
        "        \n",
        "    "
      ],
      "execution_count": 0,
      "outputs": []
    },
    {
      "cell_type": "code",
      "metadata": {
        "id": "ucqo5pXp3ldt",
        "colab_type": "code",
        "colab": {}
      },
      "source": [
        "def applySubstitutions(df_col):\n",
        "    '''Substitutes 'not {word}' with [word]'s antonym if an antonym can be found'''\n",
        "    df_col_temp = df_col[df_col.str.contains('not', regex=False)]\n",
        "    for tweet in df_col_temp:\n",
        "            sub_dict = findNegationSubstitutions(tweet)\n",
        "            if len(sub_dict) > 0:\n",
        "                for replacement in sub_dict:\n",
        "                    tweet = tweet.replace(replacement, sub_dict[replacement])\n",
        "    return df_col\n",
        "    "
      ],
      "execution_count": 0,
      "outputs": []
    },
    {
      "cell_type": "code",
      "metadata": {
        "id": "emW9huqmTc1F",
        "colab_type": "code",
        "colab": {}
      },
      "source": [
        "def replaceExactMatch(df_col, match_list):\n",
        "    '''Replaces words in a text column if an exact match is found'''\n",
        "    for word in match_list:\n",
        "        df_col = df_col.str.replace(r'\\b'+word+r'\\b', repl=(''))\n",
        "    return df_col"
      ],
      "execution_count": 0,
      "outputs": []
    },
    {
      "cell_type": "markdown",
      "metadata": {
        "id": "83hDc6Gh91KS",
        "colab_type": "text"
      },
      "source": [
        "##Let's apply the transformations!"
      ]
    },
    {
      "cell_type": "code",
      "metadata": {
        "id": "aXjtVY_z3ldu",
        "colab_type": "code",
        "colab": {}
      },
      "source": [
        "tweets.text = removeUnicode(tweets.text)\n",
        "tweets.text = removeURLs(tweets.text)"
      ],
      "execution_count": 0,
      "outputs": []
    },
    {
      "cell_type": "code",
      "metadata": {
        "scrolled": true,
        "id": "oPUmaDKr3ldx",
        "colab_type": "code",
        "outputId": "3554add6-e1f6-42f9-80c5-8fda60a6811f",
        "colab": {
          "base_uri": "https://localhost:8080/",
          "height": 905
        }
      },
      "source": [
        "listHashtags(tweets.text)[1:50]"
      ],
      "execution_count": 36,
      "outputs": [
        {
          "output_type": "execute_result",
          "data": {
            "text/plain": [
              "1                      Seductive\n",
              "2                         stress\n",
              "3                           fail\n",
              "4                             VX\n",
              "5                          noair\n",
              "6                worstflightever\n",
              "7                        roasted\n",
              "8                       SFOtoBOS\n",
              "9                     sendambien\n",
              "10                    andchexmix\n",
              "11                 MoodlitMonday\n",
              "12    ScienceBehindTheExperience\n",
              "13                 MoodlitMonday\n",
              "14                    travelhelp\n",
              "15                   elevategold\n",
              "16                       tribute\n",
              "17                  SoundOfMusic\n",
              "18                        Oscars\n",
              "19               guiltypleasures\n",
              "20               CarrieUnderwood\n",
              "21                         CMFat\n",
              "22     neverflyvirginforbusiness\n",
              "23                      inflight\n",
              "24               flightattendant\n",
              "25                     dreampath\n",
              "26     neverflyvirginforbusiness\n",
              "27                neverflyvirgin\n",
              "28                        change\n",
              "29                  nomorevirgin\n",
              "30                 uncomfortable\n",
              "31                           sfo\n",
              "32                        sneaky\n",
              "33               customerservice\n",
              "34                 virginamerica\n",
              "35                        flying\n",
              "36                       sarcasm\n",
              "37                  CheapFlights\n",
              "38                   FareCompare\n",
              "39                  CheapFlights\n",
              "40                   FareCompare\n",
              "41                  CheapFlights\n",
              "42                   FareCompare\n",
              "43                  CheapFlights\n",
              "44                   FareCompare\n",
              "45                           PHL\n",
              "46                pleasecomeback\n",
              "47                  VAbeatsJblue\n",
              "48                        Oscars\n",
              "49          likingyoulessandless\n",
              "Name: hashtag, dtype: object"
            ]
          },
          "metadata": {
            "tags": []
          },
          "execution_count": 36
        }
      ]
    },
    {
      "cell_type": "code",
      "metadata": {
        "id": "hn8qoa3d3ld1",
        "colab_type": "code",
        "colab": {}
      },
      "source": [
        "#creates a dictionary of common words I found in the hashtags \n",
        "important_hashtags = ['worst', 'sucks','innovative', 'better','lost', 'never', 'thanks','thank', 'best', 'airline', 'time', \n",
        "                      'money','home', 'service', 'customer', 'flights','flight', 'fail', 'worse', 'lost', \n",
        "                      'delay','happy', 'airline', 'bad', 'bags', 'good','free', 'fun','fly', 'not', \n",
        "                      'virginamerica', 'united', 'southwest', 'delta', 'usairways',\n",
        "                      'american','virgin','usair', 'love','change','nightmare']"
      ],
      "execution_count": 0,
      "outputs": []
    },
    {
      "cell_type": "code",
      "metadata": {
        "id": "pPW_UzXR3ld4",
        "colab_type": "code",
        "colab": {}
      },
      "source": [
        "#sorts the list by length\n",
        "important_hashtags.sort(key=len)"
      ],
      "execution_count": 0,
      "outputs": []
    },
    {
      "cell_type": "code",
      "metadata": {
        "id": "EHoiNLaQ3ld6",
        "colab_type": "code",
        "colab": {}
      },
      "source": [
        "tweets.text = parseHashtags(tweets.text, important_hashtags)"
      ],
      "execution_count": 0,
      "outputs": []
    },
    {
      "cell_type": "code",
      "metadata": {
        "id": "Qaq_anMF3ld7",
        "colab_type": "code",
        "colab": {}
      },
      "source": [
        "tweets.text = removeHandles(tweets.text)"
      ],
      "execution_count": 0,
      "outputs": []
    },
    {
      "cell_type": "code",
      "metadata": {
        "id": "2HRmhqoF3ld9",
        "colab_type": "code",
        "colab": {}
      },
      "source": [
        "tweets.text = splitConcatenatedWords(tweets.text)"
      ],
      "execution_count": 0,
      "outputs": []
    },
    {
      "cell_type": "code",
      "metadata": {
        "id": "ViN1Gzsw3ld-",
        "colab_type": "code",
        "colab": {}
      },
      "source": [
        "tweets.text = lowercase(tweets.text)"
      ],
      "execution_count": 0,
      "outputs": []
    },
    {
      "cell_type": "code",
      "metadata": {
        "id": "wAUWQm6-3leC",
        "colab_type": "code",
        "colab": {}
      },
      "source": [
        "tweets.text = replaceContractions(tweets.text)"
      ],
      "execution_count": 0,
      "outputs": []
    },
    {
      "cell_type": "code",
      "metadata": {
        "id": "vHFmpHN63leF",
        "colab_type": "code",
        "colab": {}
      },
      "source": [
        "tweets.text = removeNonAlphabetic(tweets.text)"
      ],
      "execution_count": 0,
      "outputs": []
    },
    {
      "cell_type": "code",
      "metadata": {
        "scrolled": true,
        "id": "MoS5LZRC3leH",
        "colab_type": "code",
        "colab": {}
      },
      "source": [
        "#loads spacy using english vocabulary\n",
        "nlp = spacy.load('en')"
      ],
      "execution_count": 0,
      "outputs": []
    },
    {
      "cell_type": "code",
      "metadata": {
        "id": "dc5MZ83B3leK",
        "colab_type": "code",
        "colab": {}
      },
      "source": [
        "#creates a (incomplete) list of english vocabulary\n",
        "eng_vocab = list(nlp.vocab.strings)"
      ],
      "execution_count": 0,
      "outputs": []
    },
    {
      "cell_type": "code",
      "metadata": {
        "id": "leBUH5Rj3leL",
        "colab_type": "code",
        "colab": {}
      },
      "source": [
        "#creates a dataframe with common misspellings. I'd show it but it doesn't work for some reason on Google Colab like it does in Jupyter\n",
        "misspellings = findMisspellings(tweets.text, eng_vocab)"
      ],
      "execution_count": 0,
      "outputs": []
    },
    {
      "cell_type": "code",
      "metadata": {
        "id": "rKgn0VKl3leS",
        "colab_type": "code",
        "colab": {}
      },
      "source": [
        "#Create CSV with common misspellings for classifying\n",
        "misspellings.to_csv(r\"C:\\Users\\chad.gildersleeve\\Documents\\common misspellings.csv\")"
      ],
      "execution_count": 0,
      "outputs": []
    },
    {
      "cell_type": "code",
      "metadata": {
        "id": "LazZjZaA3leT",
        "colab_type": "code",
        "colab": {}
      },
      "source": [
        "#path of the last file after I fixed misspellings manually\n",
        "csv_path = r\"Twitter_Airlines_ULMFIT/common misspellings v2.csv\""
      ],
      "execution_count": 0,
      "outputs": []
    },
    {
      "cell_type": "markdown",
      "metadata": {
        "id": "7cjXQtLR_bv0",
        "colab_type": "text"
      },
      "source": [
        "I know there are functions that work by replacing misspelled words by looping through the characters and fixing 1-2 n-grams to see if matches a word in a vocab list. I found these functions to be slow and often innacurate."
      ]
    },
    {
      "cell_type": "code",
      "metadata": {
        "id": "T5-OGJlD3leU",
        "colab_type": "code",
        "colab": {}
      },
      "source": [
        "tweets.text = replaceCommonMisspellings(csv_path, tweets.text)"
      ],
      "execution_count": 0,
      "outputs": []
    },
    {
      "cell_type": "code",
      "metadata": {
        "id": "ccvoFXgI3lea",
        "colab_type": "code",
        "colab": {}
      },
      "source": [
        "tweets.text = applySubstitutions(tweets.text)"
      ],
      "execution_count": 0,
      "outputs": []
    },
    {
      "cell_type": "code",
      "metadata": {
        "scrolled": true,
        "id": "7SVYtEGK3leb",
        "colab_type": "code",
        "colab": {}
      },
      "source": [
        "tweets.text = lemmatizeText(tweets.text)"
      ],
      "execution_count": 0,
      "outputs": []
    },
    {
      "cell_type": "markdown",
      "metadata": {
        "id": "mrmelNfE8cAA",
        "colab_type": "text"
      },
      "source": [
        "Google Collab did not process the same way as Jupyter did, so I am using the file I created in Jupyter.\n"
      ]
    },
    {
      "cell_type": "code",
      "metadata": {
        "id": "pCGUmqRLBLwf",
        "colab_type": "code",
        "colab": {}
      },
      "source": [
        "#Create new processed Twitter file\n",
        "#tweets.to_csv(r\"C:\\Users\\chad.gildersleeve\\Downloads\\clean_Tweets.csv\"')"
      ],
      "execution_count": 0,
      "outputs": []
    },
    {
      "cell_type": "markdown",
      "metadata": {
        "id": "qsabNR-JFwFo",
        "colab_type": "text"
      },
      "source": [
        "##Create Training and Test data sets to prepare for modeling"
      ]
    },
    {
      "cell_type": "code",
      "metadata": {
        "id": "j72Eyx_HXUR3",
        "colab_type": "code",
        "colab": {}
      },
      "source": [
        "#read in processed tweets file and prepare columns for fastai\n",
        "tweets = pd.read_csv(r'Twitter_Airlines_ULMFIT/clean_Tweets.csv')\n",
        "tweets = tweets.loc[:,['text', 'airline_sentiment']]\n",
        "\n",
        "tweets.columns = ['text','labels']\n",
        "tweets = tweets[['labels','text']]"
      ],
      "execution_count": 0,
      "outputs": []
    },
    {
      "cell_type": "code",
      "metadata": {
        "id": "22X3pe1mX7qi",
        "colab_type": "code",
        "colab": {}
      },
      "source": [
        "#create test and training df's\n",
        "df_test = tweets.sample(frac=.2)\n",
        "df_train = tweets.drop(df_test.index)\n"
      ],
      "execution_count": 0,
      "outputs": []
    },
    {
      "cell_type": "code",
      "metadata": {
        "id": "cZQym4shBMGt",
        "colab_type": "code",
        "outputId": "3de1f5bd-444b-4fff-ee89-571591198db7",
        "colab": {
          "base_uri": "https://localhost:8080/",
          "height": 87
        }
      },
      "source": [
        "#doublecheck both files have roughly the same breakout of labels\n",
        "df_test.labels.value_counts()/df_test.labels.shape[0]"
      ],
      "execution_count": 56,
      "outputs": [
        {
          "output_type": "execute_result",
          "data": {
            "text/plain": [
              "negative    0.627049\n",
              "neutral     0.206967\n",
              "positive    0.165984\n",
              "Name: labels, dtype: float64"
            ]
          },
          "metadata": {
            "tags": []
          },
          "execution_count": 56
        }
      ]
    },
    {
      "cell_type": "code",
      "metadata": {
        "id": "CwqJmo8DBMJj",
        "colab_type": "code",
        "outputId": "96c791a3-6fd6-4e37-c2ef-1634678b180f",
        "colab": {
          "base_uri": "https://localhost:8080/",
          "height": 87
        }
      },
      "source": [
        "df_train.labels.value_counts()/df_train.labels.shape[0]\n"
      ],
      "execution_count": 57,
      "outputs": [
        {
          "output_type": "execute_result",
          "data": {
            "text/plain": [
              "negative    0.626878\n",
              "neutral     0.212859\n",
              "positive    0.160263\n",
              "Name: labels, dtype: float64"
            ]
          },
          "metadata": {
            "tags": []
          },
          "execution_count": 57
        }
      ]
    },
    {
      "cell_type": "markdown",
      "metadata": {
        "id": "hayV6kG4GB9f",
        "colab_type": "text"
      },
      "source": [
        "##Create and Fine-Tune Language Model"
      ]
    },
    {
      "cell_type": "code",
      "metadata": {
        "colab_type": "code",
        "id": "Jjm0R9pwDizg",
        "colab": {}
      },
      "source": [
        "#Prepare data for language model\n",
        "data_lm = TextLMDataBunch.from_df(train_df = df_train, valid_df = df_test, path = \"\")\n",
        "\n",
        "#Prepare data for classifier model\n",
        "data_clas = TextClasDataBunch.from_df(path = \"\", train_df = df_train, valid_df = df_test, vocab=data_lm.train_ds.vocab, bs=32)\n",
        "\n",
        "#Save prepared data sets\n",
        "data_lm.save('data_lm_export.pkl')\n",
        "data_clas.save('data_clas_export.pkl')"
      ],
      "execution_count": 0,
      "outputs": []
    },
    {
      "cell_type": "code",
      "metadata": {
        "id": "p1xlxsolYUb1",
        "colab_type": "code",
        "colab": {}
      },
      "source": [
        "#Initiatilize the learn object with the AWD_LSTM language model\n",
        "learn = language_model_learner(data_lm, arch=AWD_LSTM, drop_mult=0.5)\n"
      ],
      "execution_count": 0,
      "outputs": []
    },
    {
      "cell_type": "code",
      "metadata": {
        "id": "AC9MilPtrmzB",
        "colab_type": "code",
        "outputId": "bca5aa8c-4561-477b-b06a-23f05fffccb5",
        "colab": {
          "base_uri": "https://localhost:8080/",
          "height": 77
        }
      },
      "source": [
        "#optimizing the last layers with a sightly smaller momentum\n",
        "learn.fit_one_cycle(1, 1e-2, moms=(0.8,0.7))"
      ],
      "execution_count": 60,
      "outputs": [
        {
          "output_type": "display_data",
          "data": {
            "text/html": [
              "<table border=\"1\" class=\"dataframe\">\n",
              "  <thead>\n",
              "    <tr style=\"text-align: left;\">\n",
              "      <th>epoch</th>\n",
              "      <th>train_loss</th>\n",
              "      <th>valid_loss</th>\n",
              "      <th>accuracy</th>\n",
              "      <th>time</th>\n",
              "    </tr>\n",
              "  </thead>\n",
              "  <tbody>\n",
              "    <tr>\n",
              "      <td>0</td>\n",
              "      <td>5.082728</td>\n",
              "      <td>4.353894</td>\n",
              "      <td>0.244334</td>\n",
              "      <td>00:07</td>\n",
              "    </tr>\n",
              "  </tbody>\n",
              "</table>"
            ],
            "text/plain": [
              "<IPython.core.display.HTML object>"
            ]
          },
          "metadata": {
            "tags": []
          }
        }
      ]
    },
    {
      "cell_type": "code",
      "metadata": {
        "id": "jmPmEHJBzGWo",
        "colab_type": "code",
        "outputId": "ec5e978b-ce91-4ce8-bf4c-c51e7edeed7a",
        "colab": {
          "base_uri": "https://localhost:8080/",
          "height": 137
        }
      },
      "source": [
        "#find tuning the entire model\n",
        "learn.unfreeze()\n",
        "learn.fit_one_cycle(3, 1e-3, moms=(0.8,0.7))"
      ],
      "execution_count": 61,
      "outputs": [
        {
          "output_type": "display_data",
          "data": {
            "text/html": [
              "<table border=\"1\" class=\"dataframe\">\n",
              "  <thead>\n",
              "    <tr style=\"text-align: left;\">\n",
              "      <th>epoch</th>\n",
              "      <th>train_loss</th>\n",
              "      <th>valid_loss</th>\n",
              "      <th>accuracy</th>\n",
              "      <th>time</th>\n",
              "    </tr>\n",
              "  </thead>\n",
              "  <tbody>\n",
              "    <tr>\n",
              "      <td>0</td>\n",
              "      <td>4.332780</td>\n",
              "      <td>4.092339</td>\n",
              "      <td>0.285422</td>\n",
              "      <td>00:10</td>\n",
              "    </tr>\n",
              "    <tr>\n",
              "      <td>1</td>\n",
              "      <td>4.175085</td>\n",
              "      <td>4.008996</td>\n",
              "      <td>0.293527</td>\n",
              "      <td>00:10</td>\n",
              "    </tr>\n",
              "    <tr>\n",
              "      <td>2</td>\n",
              "      <td>4.010804</td>\n",
              "      <td>3.967838</td>\n",
              "      <td>0.299880</td>\n",
              "      <td>00:11</td>\n",
              "    </tr>\n",
              "  </tbody>\n",
              "</table>"
            ],
            "text/plain": [
              "<IPython.core.display.HTML object>"
            ]
          },
          "metadata": {
            "tags": []
          }
        }
      ]
    },
    {
      "cell_type": "markdown",
      "metadata": {
        "id": "0tvdsLwBTEP3",
        "colab_type": "text"
      },
      "source": [
        "I used three epocs to train the language model. After 3 epochs, I noticed that training loss was began to become less than validation loss suggesting overfitting."
      ]
    },
    {
      "cell_type": "code",
      "metadata": {
        "id": "_npcB1WndyWj",
        "colab_type": "code",
        "outputId": "b9f110d9-b12b-4ad2-d5fe-355218c3e777",
        "colab": {
          "base_uri": "https://localhost:8080/",
          "height": 34
        }
      },
      "source": [
        "#testing out how well the language model predicts the next words of a sentence\n",
        "learn.predict(\"American Airlines what a bad bad flight that was give me my\", n_words=10)\n"
      ],
      "execution_count": 62,
      "outputs": [
        {
          "output_type": "execute_result",
          "data": {
            "text/plain": [
              "'American Airlines what a bad bad flight that was give me my kid worse xxbos do -PRON- captain in day xxbos'"
            ]
          },
          "metadata": {
            "tags": []
          },
          "execution_count": 62
        }
      ]
    },
    {
      "cell_type": "code",
      "metadata": {
        "id": "GTj7up1hn8S5",
        "colab_type": "code",
        "colab": {}
      },
      "source": [
        "#saving the language model\n",
        "learn.save_encoder('ft_enc')\n"
      ],
      "execution_count": 0,
      "outputs": []
    },
    {
      "cell_type": "code",
      "metadata": {
        "id": "TUOxdrpeXhcA",
        "colab_type": "code",
        "colab": {}
      },
      "source": [
        "#creating the classification learn object\n",
        "learn = text_classifier_learner(data_clas, AWD_LSTM, drop_mult=0.3)\n",
        "learn.load_encoder('ft_enc')\n",
        "learn.freeze()"
      ],
      "execution_count": 0,
      "outputs": []
    },
    {
      "cell_type": "code",
      "metadata": {
        "id": "s58gn-Ble8dk",
        "colab_type": "code",
        "outputId": "44717e4e-079b-44b3-ae85-1e4064486e84",
        "colab": {
          "base_uri": "https://localhost:8080/",
          "height": 197
        }
      },
      "source": [
        "#showing what the processed data looks like\n",
        "data_clas.show_batch()\n"
      ],
      "execution_count": 65,
      "outputs": [
        {
          "output_type": "display_data",
          "data": {
            "text/html": [
              "<table border=\"1\" class=\"dataframe\">\n",
              "  <thead>\n",
              "    <tr style=\"text-align: right;\">\n",
              "      <th>text</th>\n",
              "      <th>target</th>\n",
              "    </tr>\n",
              "  </thead>\n",
              "  <tbody>\n",
              "    <tr>\n",
              "      <td>xxbos i do not have a xxunk count i can not send xxup -pron- mail to xxup -pron- via dm xxup -pron- be not follow xxup -pron- i follow xxup -pron- now so xxup -pron- can xxunk xxup -pron- a dm</td>\n",
              "      <td>neutral</td>\n",
              "    </tr>\n",
              "    <tr>\n",
              "      <td>xxbos xxup -pron- stand xxup -pron- up last night but xxup -pron- be give xxup -pron- a second chance xxup -pron- be just a boy tweet an airline ask xxup -pron- to fly xxup -pron- home</td>\n",
              "      <td>negative</td>\n",
              "    </tr>\n",
              "    <tr>\n",
              "      <td>xxbos hi just get xxup -pron- tsa precheck amp put xxup -pron- in xxup -pron- acct but xxup -pron- be not on xxup -pron- boarding pass for a flight this pm can xxup -pron- be update</td>\n",
              "      <td>negative</td>\n",
              "    </tr>\n",
              "    <tr>\n",
              "      <td>xxbos thank xxup -pron- i leave xxup -pron- i pad on a plane fill out a lost and find form xxup -pron- all find xxup -pron- and ship xxup -pron- back thank xxup -pron- fly sw</td>\n",
              "      <td>positive</td>\n",
              "    </tr>\n",
              "    <tr>\n",
              "      <td>xxbos i forgot to put xxup -pron- tsa pre count in before i check in xxup -pron- be now in xxup -pron- profile but will xxup -pron- be on xxup -pron- boarding pass in the am</td>\n",
              "      <td>neutral</td>\n",
              "    </tr>\n",
              "  </tbody>\n",
              "</table>"
            ],
            "text/plain": [
              "<IPython.core.display.HTML object>"
            ]
          },
          "metadata": {
            "tags": []
          }
        }
      ]
    },
    {
      "cell_type": "code",
      "metadata": {
        "id": "_qvBwlIefABG",
        "colab_type": "code",
        "outputId": "cd44d42f-d256-44f7-8eb1-1905b101b111",
        "colab": {
          "base_uri": "https://localhost:8080/",
          "height": 77
        }
      },
      "source": [
        "#Fit the model\n",
        "learn.fit_one_cycle(1, 1e-2, moms=(.08,.07))\n"
      ],
      "execution_count": 66,
      "outputs": [
        {
          "output_type": "display_data",
          "data": {
            "text/html": [
              "<table border=\"1\" class=\"dataframe\">\n",
              "  <thead>\n",
              "    <tr style=\"text-align: left;\">\n",
              "      <th>epoch</th>\n",
              "      <th>train_loss</th>\n",
              "      <th>valid_loss</th>\n",
              "      <th>accuracy</th>\n",
              "      <th>time</th>\n",
              "    </tr>\n",
              "  </thead>\n",
              "  <tbody>\n",
              "    <tr>\n",
              "      <td>0</td>\n",
              "      <td>0.671356</td>\n",
              "      <td>0.546943</td>\n",
              "      <td>0.790642</td>\n",
              "      <td>00:06</td>\n",
              "    </tr>\n",
              "  </tbody>\n",
              "</table>"
            ],
            "text/plain": [
              "<IPython.core.display.HTML object>"
            ]
          },
          "metadata": {
            "tags": []
          }
        }
      ]
    },
    {
      "cell_type": "code",
      "metadata": {
        "id": "--5Nnc01fShr",
        "colab_type": "code",
        "outputId": "d47ab2f3-836f-47e1-dc60-4be2a23a365a",
        "colab": {
          "base_uri": "https://localhost:8080/",
          "height": 77
        }
      },
      "source": [
        "#instead of fitting the whole thing, fastai suggests fitting the last few layers first\n",
        "learn.freeze_to(-2)\n",
        "learn.fit_one_cycle(1, slice(5e-3/2., 5e-3), moms = (.08,.07))"
      ],
      "execution_count": 67,
      "outputs": [
        {
          "output_type": "display_data",
          "data": {
            "text/html": [
              "<table border=\"1\" class=\"dataframe\">\n",
              "  <thead>\n",
              "    <tr style=\"text-align: left;\">\n",
              "      <th>epoch</th>\n",
              "      <th>train_loss</th>\n",
              "      <th>valid_loss</th>\n",
              "      <th>accuracy</th>\n",
              "      <th>time</th>\n",
              "    </tr>\n",
              "  </thead>\n",
              "  <tbody>\n",
              "    <tr>\n",
              "      <td>0</td>\n",
              "      <td>0.614194</td>\n",
              "      <td>0.525279</td>\n",
              "      <td>0.797473</td>\n",
              "      <td>00:08</td>\n",
              "    </tr>\n",
              "  </tbody>\n",
              "</table>"
            ],
            "text/plain": [
              "<IPython.core.display.HTML object>"
            ]
          },
          "metadata": {
            "tags": []
          }
        }
      ]
    },
    {
      "cell_type": "code",
      "metadata": {
        "id": "luKlQ560fYEV",
        "colab_type": "code",
        "outputId": "eed3043e-f7be-4242-b80c-849ea652ad01",
        "colab": {
          "base_uri": "https://localhost:8080/",
          "height": 77
        }
      },
      "source": [
        "#again freezing everything but the last few layers\n",
        "learn.unfreeze()\n",
        "learn.freeze_to(-3)\n",
        "learn.fit_one_cycle(1, slice(2e-3/100, 2e-3), moms = (.08,.07))"
      ],
      "execution_count": 68,
      "outputs": [
        {
          "output_type": "display_data",
          "data": {
            "text/html": [
              "<table border=\"1\" class=\"dataframe\">\n",
              "  <thead>\n",
              "    <tr style=\"text-align: left;\">\n",
              "      <th>epoch</th>\n",
              "      <th>train_loss</th>\n",
              "      <th>valid_loss</th>\n",
              "      <th>accuracy</th>\n",
              "      <th>time</th>\n",
              "    </tr>\n",
              "  </thead>\n",
              "  <tbody>\n",
              "    <tr>\n",
              "      <td>0</td>\n",
              "      <td>0.573446</td>\n",
              "      <td>0.508227</td>\n",
              "      <td>0.802254</td>\n",
              "      <td>00:12</td>\n",
              "    </tr>\n",
              "  </tbody>\n",
              "</table>"
            ],
            "text/plain": [
              "<IPython.core.display.HTML object>"
            ]
          },
          "metadata": {
            "tags": []
          }
        }
      ]
    },
    {
      "cell_type": "code",
      "metadata": {
        "id": "tGlshXRdfeuG",
        "colab_type": "code",
        "outputId": "c4bedf78-4b42-4222-b1ae-a641d85f843a",
        "colab": {
          "base_uri": "https://localhost:8080/",
          "height": 107
        }
      },
      "source": [
        "#fitting the whoe thing now\n",
        "learn.unfreeze()\n",
        "learn.fit_one_cycle(2, slice(1e-3/(2.6**4),1e-3), moms=(0.8,0.7))"
      ],
      "execution_count": 69,
      "outputs": [
        {
          "output_type": "display_data",
          "data": {
            "text/html": [
              "<table border=\"1\" class=\"dataframe\">\n",
              "  <thead>\n",
              "    <tr style=\"text-align: left;\">\n",
              "      <th>epoch</th>\n",
              "      <th>train_loss</th>\n",
              "      <th>valid_loss</th>\n",
              "      <th>accuracy</th>\n",
              "      <th>time</th>\n",
              "    </tr>\n",
              "  </thead>\n",
              "  <tbody>\n",
              "    <tr>\n",
              "      <td>0</td>\n",
              "      <td>0.534403</td>\n",
              "      <td>0.516810</td>\n",
              "      <td>0.804986</td>\n",
              "      <td>00:16</td>\n",
              "    </tr>\n",
              "    <tr>\n",
              "      <td>1</td>\n",
              "      <td>0.445430</td>\n",
              "      <td>0.501193</td>\n",
              "      <td>0.811817</td>\n",
              "      <td>00:16</td>\n",
              "    </tr>\n",
              "  </tbody>\n",
              "</table>"
            ],
            "text/plain": [
              "<IPython.core.display.HTML object>"
            ]
          },
          "metadata": {
            "tags": []
          }
        }
      ]
    },
    {
      "cell_type": "markdown",
      "metadata": {
        "id": "o7J6HE3ZO3bJ",
        "colab_type": "text"
      },
      "source": [
        "#Analyzing the performance"
      ]
    },
    {
      "cell_type": "markdown",
      "metadata": {
        "id": "XAounecfPNM-",
        "colab_type": "text"
      },
      "source": [
        "The model has around an 81% accuracy on the test data set. Given the models I viewed not performed on ULMFIT within the kaggle set saw around 70% accuracy, this is fairly strong performance. However, to understand how well the ULFMIT model does, it'd be best to compare it against other models. Below, I start this process by comparing the model to a linear logistic regression model built on a bag of words data set. \n",
        "\n",
        "Additionally, no preferences are determined for measuring success. Depending on the solution desired, the model could be adjusted to punish false negatives or false positives more. If this is the case, the model could be transformed to a binary model and optimized on an f-score instead of accuracy. However, given that no preferences are known, I am going to look at the predictions' confusion matrix to help understand each models' overall accuracy..\n",
        "\n"
      ]
    },
    {
      "cell_type": "code",
      "metadata": {
        "id": "s1IUriYwQhm8",
        "colab_type": "code",
        "colab": {}
      },
      "source": [
        "#getting the predictions, true values, and losses for the validation set\n",
        "preds,y,losses = learn.get_preds(with_loss=True, ordered=True)\n",
        "interp = ClassificationInterpretation(learn, preds, y, losses)"
      ],
      "execution_count": 0,
      "outputs": []
    },
    {
      "cell_type": "code",
      "metadata": {
        "id": "MzAjt-l1jN2p",
        "colab_type": "code",
        "colab": {
          "base_uri": "https://localhost:8080/",
          "height": 311
        },
        "outputId": "86576dcf-37cb-4b3c-fe6b-0a6a92405bef"
      },
      "source": [
        "#plotting the confusion matrix\n",
        "interp.plot_confusion_matrix()\n"
      ],
      "execution_count": 71,
      "outputs": [
        {
          "output_type": "display_data",
          "data": {
            "image/png": "[encoded data removed]",
            "text/plain": [
              "<Figure size 432x288 with 1 Axes>"
            ]
          },
          "metadata": {
            "tags": []
          }
        }
      ]
    },
    {
      "cell_type": "code",
      "metadata": {
        "id": "71y0wrqFtRFh",
        "colab_type": "code",
        "colab": {}
      },
      "source": [
        "#converting the confusion matrix to percents\n",
        "confusion_df = pd.DataFrame(interp.confusion_matrix())\n",
        "\n",
        "confusion_df.columns = ['negative', 'neutral', 'positive']\n",
        "confusion_df.index = ['negative', 'neutral', 'positive']\n",
        "for col in confusion_df.columns:\n",
        "  confusion_df[col] = confusion_df[col]/confusion_df[col].sum()"
      ],
      "execution_count": 0,
      "outputs": []
    },
    {
      "cell_type": "code",
      "metadata": {
        "id": "9h1eyfxVt5SD",
        "colab_type": "code",
        "colab": {
          "base_uri": "https://localhost:8080/",
          "height": 137
        },
        "outputId": "fac7fe6d-96c2-42ea-925c-c4d0fc5ae427"
      },
      "source": [
        "#plotting the confusion matrix percent accuracies\n",
        "confusion_df"
      ],
      "execution_count": 73,
      "outputs": [
        {
          "output_type": "execute_result",
          "data": {
            "text/html": [
              "<div>\n",
              "<style scoped>\n",
              "    .dataframe tbody tr th:only-of-type {\n",
              "        vertical-align: middle;\n",
              "    }\n",
              "\n",
              "    .dataframe tbody tr th {\n",
              "        vertical-align: top;\n",
              "    }\n",
              "\n",
              "    .dataframe thead th {\n",
              "        text-align: right;\n",
              "    }\n",
              "</style>\n",
              "<table border=\"1\" class=\"dataframe\">\n",
              "  <thead>\n",
              "    <tr style=\"text-align: right;\">\n",
              "      <th></th>\n",
              "      <th>negative</th>\n",
              "      <th>neutral</th>\n",
              "      <th>positive</th>\n",
              "    </tr>\n",
              "  </thead>\n",
              "  <tbody>\n",
              "    <tr>\n",
              "      <th>negative</th>\n",
              "      <td>0.844456</td>\n",
              "      <td>0.225410</td>\n",
              "      <td>0.096197</td>\n",
              "    </tr>\n",
              "    <tr>\n",
              "      <th>neutral</th>\n",
              "      <td>0.104365</td>\n",
              "      <td>0.704918</td>\n",
              "      <td>0.120805</td>\n",
              "    </tr>\n",
              "    <tr>\n",
              "      <th>positive</th>\n",
              "      <td>0.051179</td>\n",
              "      <td>0.069672</td>\n",
              "      <td>0.782998</td>\n",
              "    </tr>\n",
              "  </tbody>\n",
              "</table>\n",
              "</div>"
            ],
            "text/plain": [
              "          negative   neutral  positive\n",
              "negative  0.844456  0.225410  0.096197\n",
              "neutral   0.104365  0.704918  0.120805\n",
              "positive  0.051179  0.069672  0.782998"
            ]
          },
          "metadata": {
            "tags": []
          },
          "execution_count": 73
        }
      ]
    },
    {
      "cell_type": "code",
      "metadata": {
        "id": "GcA0Tdj0ySkr",
        "colab_type": "code",
        "colab": {}
      },
      "source": [
        "#prepping the data for a logistic regressino model. first I am replacing the labels with integer values\n",
        "label_replace = {'positive': 2, 'neutral':1, 'negative':0}\n",
        "tweets.labels = [label_replace[label] for label in tweets.labels]"
      ],
      "execution_count": 0,
      "outputs": []
    },
    {
      "cell_type": "code",
      "metadata": {
        "id": "d9vcrFnbzcKA",
        "colab_type": "code",
        "colab": {}
      },
      "source": [
        "# creating a bag of words model for regression\n",
        "count_vector = CountVectorizer(min_df=3)\n",
        "count_vector = count_vector.fit(tweets.text)\n",
        "tweet_array = count_vector.transform(tweets.text).toarray()\n",
        "\n",
        "bag_of_words = pd.DataFrame(tweet_array, columns = count_vector.get_feature_names())"
      ],
      "execution_count": 0,
      "outputs": []
    },
    {
      "cell_type": "code",
      "metadata": {
        "id": "mQBH4W801tFJ",
        "colab_type": "code",
        "colab": {}
      },
      "source": [
        "#splitting the bag of words model into test and training data\n",
        "x_train, x_test, y_train, y_test = train_test_split(bag_of_words, tweets.labels, test_size = 0.2, random_state = 0)\n"
      ],
      "execution_count": 0,
      "outputs": []
    },
    {
      "cell_type": "code",
      "metadata": {
        "id": "9eA9l8IXhQcl",
        "colab_type": "code",
        "colab": {}
      },
      "source": [
        "#initializing the softReg object\n",
        "softReg = LogisticRegression(multi_class = 'multinomial', solver = 'lbfgs')\n"
      ],
      "execution_count": 0,
      "outputs": []
    },
    {
      "cell_type": "code",
      "metadata": {
        "id": "xQ-hohNXyOpR",
        "colab_type": "code",
        "colab": {
          "base_uri": "https://localhost:8080/",
          "height": 141
        },
        "outputId": "05770d2a-4168-433f-e35d-dee26d5519a0"
      },
      "source": [
        "#fitting the softReg model\n",
        "softReg.fit(x_train, y_train)"
      ],
      "execution_count": 78,
      "outputs": [
        {
          "output_type": "stream",
          "text": [
            "/usr/local/lib/python3.6/dist-packages/sklearn/linear_model/logistic.py:947: ConvergenceWarning: lbfgs failed to converge. Increase the number of iterations.\n",
            "  \"of iterations.\", ConvergenceWarning)\n"
          ],
          "name": "stderr"
        },
        {
          "output_type": "execute_result",
          "data": {
            "text/plain": [
              "LogisticRegression(C=1.0, class_weight=None, dual=False, fit_intercept=True,\n",
              "                   intercept_scaling=1, l1_ratio=None, max_iter=100,\n",
              "                   multi_class='multinomial', n_jobs=None, penalty='l2',\n",
              "                   random_state=None, solver='lbfgs', tol=0.0001, verbose=0,\n",
              "                   warm_start=False)"
            ]
          },
          "metadata": {
            "tags": []
          },
          "execution_count": 78
        }
      ]
    },
    {
      "cell_type": "code",
      "metadata": {
        "id": "kdPDLh-myPBZ",
        "colab_type": "code",
        "colab": {}
      },
      "source": [
        "#getting predictions\n",
        "y_test_pred = softReg.predict(x_test)"
      ],
      "execution_count": 0,
      "outputs": []
    },
    {
      "cell_type": "code",
      "metadata": {
        "id": "tUAb2jn68tpk",
        "colab_type": "code",
        "colab": {}
      },
      "source": [
        "#creating a confusion matrix with percentages based on results\n",
        "confusion_matrix_array = confusion_matrix(y_test, y_test_pred)\n",
        "confusion_df = pd.DataFrame(confusion_matrix_array)\n",
        "\n",
        "confusion_df.columns = ['negative', 'neutral', 'positive']\n",
        "confusion_df.index = ['negative', 'neutral', 'positive']\n",
        "for col in confusion_df.columns:\n",
        "  confusion_df[col] = confusion_df[col]/confusion_df[col].sum()\n"
      ],
      "execution_count": 0,
      "outputs": []
    },
    {
      "cell_type": "code",
      "metadata": {
        "id": "EiaVaf48DFEe",
        "colab_type": "code",
        "colab": {
          "base_uri": "https://localhost:8080/",
          "height": 34
        },
        "outputId": "7d1f1bf4-af42-45b8-bdeb-2665de014ccd"
      },
      "source": [
        "#displaying the overall accuracy of the model\n",
        "accuracy_score(y_test, y_test_pred)"
      ],
      "execution_count": 81,
      "outputs": [
        {
          "output_type": "execute_result",
          "data": {
            "text/plain": [
              "0.7933743169398907"
            ]
          },
          "metadata": {
            "tags": []
          },
          "execution_count": 81
        }
      ]
    },
    {
      "cell_type": "code",
      "metadata": {
        "id": "tlofxus64UaK",
        "colab_type": "code",
        "colab": {
          "base_uri": "https://localhost:8080/",
          "height": 137
        },
        "outputId": "631fe7ad-d85b-424e-f943-b5bcbb55b1c3"
      },
      "source": [
        "#displaying the softReg's confusion matrix\n",
        "confusion_df"
      ],
      "execution_count": 82,
      "outputs": [
        {
          "output_type": "execute_result",
          "data": {
            "text/html": [
              "<div>\n",
              "<style scoped>\n",
              "    .dataframe tbody tr th:only-of-type {\n",
              "        vertical-align: middle;\n",
              "    }\n",
              "\n",
              "    .dataframe tbody tr th {\n",
              "        vertical-align: top;\n",
              "    }\n",
              "\n",
              "    .dataframe thead th {\n",
              "        text-align: right;\n",
              "    }\n",
              "</style>\n",
              "<table border=\"1\" class=\"dataframe\">\n",
              "  <thead>\n",
              "    <tr style=\"text-align: right;\">\n",
              "      <th></th>\n",
              "      <th>negative</th>\n",
              "      <th>neutral</th>\n",
              "      <th>positive</th>\n",
              "    </tr>\n",
              "  </thead>\n",
              "  <tbody>\n",
              "    <tr>\n",
              "      <th>negative</th>\n",
              "      <td>0.855297</td>\n",
              "      <td>0.276339</td>\n",
              "      <td>0.132850</td>\n",
              "    </tr>\n",
              "    <tr>\n",
              "      <th>neutral</th>\n",
              "      <td>0.101809</td>\n",
              "      <td>0.626943</td>\n",
              "      <td>0.130435</td>\n",
              "    </tr>\n",
              "    <tr>\n",
              "      <th>positive</th>\n",
              "      <td>0.042894</td>\n",
              "      <td>0.096718</td>\n",
              "      <td>0.736715</td>\n",
              "    </tr>\n",
              "  </tbody>\n",
              "</table>\n",
              "</div>"
            ],
            "text/plain": [
              "          negative   neutral  positive\n",
              "negative  0.855297  0.276339  0.132850\n",
              "neutral   0.101809  0.626943  0.130435\n",
              "positive  0.042894  0.096718  0.736715"
            ]
          },
          "metadata": {
            "tags": []
          },
          "execution_count": 82
        }
      ]
    },
    {
      "cell_type": "markdown",
      "metadata": {
        "id": "P-tRG9R8973c",
        "colab_type": "text"
      },
      "source": [
        "#Conclusion"
      ]
    },
    {
      "cell_type": "markdown",
      "metadata": {
        "id": "L9ZM5YJD9eXo",
        "colab_type": "text"
      },
      "source": [
        "Overall, initial comparisons show that the ULMFIT model performs well. It doesn't have a much stronger overall accuracy than the logistic regression model. However, when predicting neutral and positive values, it does a better job producing accuracies that are approximately 11% and 5% better than the logistic regression model.\n",
        "\n",
        "There is still a lot of work that could be done to improve performance. \n",
        "\n",
        "I have not tested how the different features impact performance. Some of the feature engineering techniques could also be tweaked to find the best performing paramaters. For example, we could test :\n",
        "    frequencing flooring or capping of words.\n",
        "    additional standardization of words. There were a lot of airport names that could be called 'airport' instead of being read as unknown\n",
        "\n",
        "We could analyze the which tweets are misclassified to see if there is a pattern that we could solve with a new feature in the feature engineering process.\n",
        "\n",
        "I also have not explored incorporating discriminative fine-tuning and slanted triangular learning rates. Given, I've seen significant defiation in results when I reran the model through the training process, I may be reaching local mimima. Implementing and testing performance for these two features could signifacantly improve results.\n",
        "\n",
        "Additionally, we could further explore and optimize other models to see how they perform when classifying the data."
      ]
    },
    {
      "cell_type": "code",
      "metadata": {
        "id": "EDXe0QtIDQzL",
        "colab_type": "code",
        "colab": {}
      },
      "source": [
        ""
      ],
      "execution_count": 0,
      "outputs": []
    }
  ]
}